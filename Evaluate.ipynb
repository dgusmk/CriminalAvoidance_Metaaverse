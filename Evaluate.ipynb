{
 "cells": [
  {
   "cell_type": "code",
   "execution_count": 1,
   "id": "0a960b5b-f72f-4b0e-b282-29d342803c5f",
   "metadata": {},
   "outputs": [
    {
     "name": "stdout",
     "output_type": "stream",
     "text": [
      "PyTorch 버전: 2.5.1+cu118\n",
      "CUDA 사용 가능 여부: True\n",
      "PyTorch에서 사용하는 CUDA 버전: 11.8\n"
     ]
    }
   ],
   "source": [
    "import numpy as np\n",
    "import pandas as pd\n",
    "import re\n",
    "import tensorflow as tf\n",
    "import nltk\n",
    "from sklearn.model_selection import train_test_split\n",
    "from transformers import BertTokenizer, BertForSequenceClassification\n",
    "from torch.utils.data import Dataset, DataLoader\n",
    "import torch\n",
    "\n",
    "print(\"PyTorch 버전:\", torch.__version__)\n",
    "print(\"CUDA 사용 가능 여부:\", torch.cuda.is_available())\n",
    "print(\"PyTorch에서 사용하는 CUDA 버전:\", torch.version.cuda)\n",
    "torch.set_default_device(\"cuda\")\n",
    "# GPU용 Generator 생성\n",
    "device = torch.device(\"cuda\" if torch.cuda.is_available() else \"cpu\")\n",
    "generator = torch.Generator(device=device)"
   ]
  },
  {
   "cell_type": "code",
   "execution_count": 2,
   "id": "225ab3e4-86e2-430a-b609-6330d0b78257",
   "metadata": {},
   "outputs": [
    {
     "name": "stderr",
     "output_type": "stream",
     "text": [
      "Some weights of BertForSequenceClassification were not initialized from the model checkpoint at bert-base-uncased and are newly initialized: ['classifier.bias', 'classifier.weight']\n",
      "You should probably TRAIN this model on a down-stream task to be able to use it for predictions and inference.\n"
     ]
    },
    {
     "data": {
      "text/plain": [
       "<All keys matched successfully>"
      ]
     },
     "execution_count": 2,
     "metadata": {},
     "output_type": "execute_result"
    }
   ],
   "source": [
    "model = BertForSequenceClassification.from_pretrained(\"bert-base-uncased\", num_labels=3)\n",
    "state_dict = torch.load(\"parameter/final_model_weights5.pth\", weights_only=True)  # 가중치 로드\n",
    "model.load_state_dict(state_dict)"
   ]
  },
  {
   "cell_type": "code",
   "execution_count": 3,
   "id": "7210512b-76fe-44a0-b4e3-00e3efe74df0",
   "metadata": {},
   "outputs": [],
   "source": [
    "data = pd.read_csv(\"cleaned_data.csv\", sep=';', on_bad_lines='skip')\n",
    "texts = data['text'].tolist()\n",
    "labels = data['type'].tolist()\n",
    "#학습용, 테스트 데이터 분리\n",
    "X_train, X_test, y_train, y_test = train_test_split(\n",
    "    texts, labels, test_size=0.2, random_state=42\n",
    ")\n",
    "# BERT 토크나이저\n",
    "tokenizer = BertTokenizer.from_pretrained(\"bert-base-uncased\")"
   ]
  },
  {
   "cell_type": "code",
   "execution_count": 4,
   "id": "913a7b41-4997-4339-9a43-8378762a115c",
   "metadata": {},
   "outputs": [
    {
     "name": "stderr",
     "output_type": "stream",
     "text": [
      "C:\\Users\\wwir9\\anaconda3\\envs\\cnn\\lib\\site-packages\\torch\\utils\\_device.py:106: UserWarning: To copy construct from a tensor, it is recommended to use sourceTensor.clone().detach() or sourceTensor.clone().detach().requires_grad_(True), rather than torch.tensor(sourceTensor).\n",
      "  return func(*args, **kwargs)\n"
     ]
    },
    {
     "name": "stdout",
     "output_type": "stream",
     "text": [
      "Accuracy:  0.9212818128012176\n"
     ]
    }
   ],
   "source": [
    "torch.cuda.empty_cache()  # PyTorch가 사용하지 않는 메모리 반환\n",
    "\n",
    "# 평가\n",
    "model.eval()\n",
    "test_texts = X_test\n",
    "labels = y_test\n",
    "test_encodings = tokenizer(test_texts, truncation=True, padding=True, max_length=128, return_tensors=\"pt\")\n",
    "total = len(test_texts)\n",
    "\n",
    "# 데이터셋 정의\n",
    "class CustomDataset(Dataset):\n",
    "    def __init__(self, encodings, labels):\n",
    "        self.encodings = encodings\n",
    "        self.labels = labels\n",
    "\n",
    "    def __len__(self):\n",
    "        return len(self.labels)\n",
    "\n",
    "    def __getitem__(self, idx):\n",
    "        item = {key: torch.tensor(val[idx]) for key, val in self.encodings.items()}\n",
    "        item[\"labels\"] = torch.tensor(self.labels[idx], dtype=torch.float)\n",
    "        return item\n",
    "\n",
    "batch_size=32\n",
    "\n",
    "test_dataset = CustomDataset(test_encodings, labels)\n",
    "test_loader = DataLoader(test_dataset, batch_size=batch_size, shuffle=False)\n",
    "\n",
    "correct = 0\n",
    "    \n",
    "with torch.no_grad():\n",
    "    for batch in test_loader:\n",
    "        # 배치 데이터 가져오기\n",
    "        input_ids = batch[\"input_ids\"]\n",
    "        attention_mask = batch[\"attention_mask\"]\n",
    "        labels = batch[\"labels\"]\n",
    "        \n",
    "        # 모델 예측\n",
    "        outputs = model(input_ids=input_ids, attention_mask=attention_mask)\n",
    "        logits = outputs.logits # [batch_size, 1] -> [batch_size]\n",
    "        # 소프트맥스 확률 계산\n",
    "        probabilities = torch.softmax(logits, dim=-1)  # [batch_size, num_classes]\n",
    "        # 가장 큰 확률의 클래스 인덱스를 예측\n",
    "        predictions = torch.argmax(probabilities, dim=-1)\n",
    "\n",
    "        # 정확도 계산\n",
    "        correct += (predictions == labels.int()).sum().item()\n",
    "        \n",
    "print(\"Accuracy: \", correct/total)"
   ]
  },
  {
   "cell_type": "code",
   "execution_count": null,
   "id": "50f3216c-e90a-4741-a50a-c96f2396aa48",
   "metadata": {},
   "outputs": [],
   "source": []
  },
  {
   "cell_type": "code",
   "execution_count": 15,
   "id": "0520f0ed-354c-406c-86bf-dd67b42c7165",
   "metadata": {},
   "outputs": [
    {
     "name": "stdout",
     "output_type": "stream",
     "text": [
      "Accuracy:  0.8745243933372792\n",
      "Accuracy:  0.927369578084045\n",
      "Accuracy:  0.9276232349708294\n",
      "Accuracy:  0.9274541303796398\n",
      "Accuracy:  0.9247484569206054\n",
      "Accuracy:  0.9212818128012176\n"
     ]
    }
   ],
   "source": [
    "print(\"Accuracy:  0.8745243933372792\")\n",
    "print(\"Accuracy:  0.927369578084045\")\n",
    "print(\"Accuracy:  0.9276232349708294\")\n",
    "print(\"Accuracy:  0.9274541303796398\")\n",
    "print(\"Accuracy:  0.9247484569206054\")\n",
    "print(\"Accuracy:  0.9212818128012176\")"
   ]
  },
  {
   "cell_type": "code",
   "execution_count": null,
   "id": "cff6be24-b222-4c82-9fce-ba586179eb9b",
   "metadata": {},
   "outputs": [],
   "source": []
  }
 ],
 "metadata": {
  "kernelspec": {
   "display_name": "cnn",
   "language": "python",
   "name": "cnn"
  },
  "language_info": {
   "codemirror_mode": {
    "name": "ipython",
    "version": 3
   },
   "file_extension": ".py",
   "mimetype": "text/x-python",
   "name": "python",
   "nbconvert_exporter": "python",
   "pygments_lexer": "ipython3",
   "version": "3.9.20"
  }
 },
 "nbformat": 4,
 "nbformat_minor": 5
}
