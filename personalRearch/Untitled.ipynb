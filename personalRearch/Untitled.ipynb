{
 "cells": [
  {
   "cell_type": "code",
   "execution_count": 2,
   "id": "0c21a676-1b2f-400e-8ff4-7c8cc55b7ed9",
   "metadata": {},
   "outputs": [],
   "source": [
    "import re\n",
    "import pandas as pd\n",
    "import numpy as np\n",
    "from sklearn.model_selection import train_test_split\n",
    "\n",
    "def clean_text(text):\n",
    "    # 정규 표현식으로 'RT'와 '#', '@'로 시작하는 단어를 찾아 제거\n",
    "    text = re.sub(r'\\bRT\\b', '', text)  # 'RT' 단독 제거\n",
    "    text = re.sub(r'@\\w+', '', text)    # '@'로 시작하는 단어 제거\n",
    "    text = re.sub(r'#\\w+', '', text)    # '#'로 시작하는 단어 제거\n",
    "    # 특수 기호 제거 (알파벳, 숫자, 공백 외의 문자 제거)\n",
    "    text = re.sub(r'[^a-zA-Z0-9\\s]', '', text) \n",
    "    # 중복된 공백 제거\n",
    "    text = re.sub(r'\\s+', ' ', text).strip()\n",
    "    return text"
   ]
  },
  {
   "cell_type": "code",
   "execution_count": 4,
   "id": "1337167f-6072-4451-a8ae-8ce4bf9e9c73",
   "metadata": {
    "scrolled": true
   },
   "outputs": [
    {
     "name": "stdout",
     "output_type": "stream",
     "text": [
      "                                                   Text           Label  \\\n",
      "0     Ten outside soon doctor shake everyone treatme...    Not-Bullying   \n",
      "1     my life has come to a standstill and at this p...    Not-Bullying   \n",
      "2            girl this nigga make me sick to my stomach        Bullying   \n",
      "3                                      I wanna fuck you        Bullying   \n",
      "4     Oh hey, you should be ashamed of your disgusti...  Not - Bullying   \n",
      "...                                                 ...             ...   \n",
      "8447  Please help this Christian nationalist battle ...        Bullying   \n",
      "8448  Has the Holy Quran ever been read by the membe...        Bullying   \n",
      "8449  And that is the difficulty - you need basic gu...        Bullying   \n",
      "8450  As they will only encounter Muslim women, help...        Bullying   \n",
      "8451  Never try to win. Not just politics, however. ...        Bullying   \n",
      "\n",
      "           Types  \n",
      "0            NaN  \n",
      "1            NaN  \n",
      "2      Ethnicity  \n",
      "3         Sexual  \n",
      "4            NaN  \n",
      "...          ...  \n",
      "8447  Vocational  \n",
      "8448      Sexual  \n",
      "8449    Religion  \n",
      "8450    Religion  \n",
      "8451    Religion  \n",
      "\n",
      "[8452 rows x 3 columns]\n"
     ]
    }
   ],
   "source": [
    "data = pd.read_csv('cyberbullying.csv', on_bad_lines='skip', sep=',')\n",
    "# 결과를 새로운 CSV 파일로 저장\n",
    "print(data)"
   ]
  },
  {
   "cell_type": "code",
   "execution_count": 45,
   "id": "e58b21b7-0ac1-48d6-9e82-38202c9b2f71",
   "metadata": {},
   "outputs": [],
   "source": []
  },
  {
   "cell_type": "code",
   "execution_count": null,
   "id": "5ede2c5b-efbd-40a3-8f79-ca20c8a6e6c1",
   "metadata": {},
   "outputs": [],
   "source": []
  }
 ],
 "metadata": {
  "kernelspec": {
   "display_name": "Python 3 (ipykernel)",
   "language": "python",
   "name": "python3"
  },
  "language_info": {
   "codemirror_mode": {
    "name": "ipython",
    "version": 3
   },
   "file_extension": ".py",
   "mimetype": "text/x-python",
   "name": "python",
   "nbconvert_exporter": "python",
   "pygments_lexer": "ipython3",
   "version": "3.11.7"
  }
 },
 "nbformat": 4,
 "nbformat_minor": 5
}
