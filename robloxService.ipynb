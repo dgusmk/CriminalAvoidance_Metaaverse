{
 "cells": [
  {
   "cell_type": "code",
   "execution_count": null,
   "id": "0bca1992-e8e5-419e-b523-8f0726fe8659",
   "metadata": {},
   "outputs": [
    {
     "name": "stdout",
     "output_type": "stream",
     "text": [
      "PyTorch 버전: 2.5.1+cu118\n",
      "CUDA 사용 가능 여부: True\n",
      "PyTorch에서 사용하는 CUDA 버전: 11.8\n"
     ]
    },
    {
     "name": "stderr",
     "output_type": "stream",
     "text": [
      "Some weights of BertForSequenceClassification were not initialized from the model checkpoint at bert-base-uncased and are newly initialized: ['classifier.bias', 'classifier.weight']\n",
      "You should probably TRAIN this model on a down-stream task to be able to use it for predictions and inference.\n",
      "INFO:     Started server process [27108]\n",
      "INFO:     Waiting for application startup.\n",
      "INFO:     Application startup complete.\n",
      "INFO:     Uvicorn running on http://0.0.0.0:8000 (Press CTRL+C to quit)\n"
     ]
    },
    {
     "name": "stdout",
     "output_type": "stream",
     "text": [
      "fuck you\n",
      "2\n",
      "INFO:     127.0.0.1:62688 - \"POST /classification HTTP/1.1\" 200 OK\n"
     ]
    }
   ],
   "source": [
    "from fastapi import FastAPI, Body\n",
    "import uvicorn\n",
    "import nest_asyncio\n",
    "import numpy as np\n",
    "import pandas as pd\n",
    "import re\n",
    "import tensorflow as tf\n",
    "import nltk\n",
    "from transformers import BertTokenizer, BertForSequenceClassification\n",
    "from torch.utils.data import Dataset, DataLoader\n",
    "import torch\n",
    "\n",
    "nest_asyncio.apply()\n",
    "app = FastAPI()\n",
    "\n",
    "print(\"PyTorch 버전:\", torch.__version__)\n",
    "print(\"CUDA 사용 가능 여부:\", torch.cuda.is_available())\n",
    "print(\"PyTorch에서 사용하는 CUDA 버전:\", torch.version.cuda)\n",
    "torch.set_default_device(\"cuda\")\n",
    "# GPU용 Generator 생성\n",
    "device = torch.device(\"cuda\" if torch.cuda.is_available() else \"cpu\")\n",
    "generator = torch.Generator(device=device)\n",
    "\n",
    "# BERT 토크나이저\n",
    "tokenizer = BertTokenizer.from_pretrained(\"bert-base-uncased\")\n",
    "\n",
    "model = BertForSequenceClassification.from_pretrained(\"bert-base-uncased\", num_labels=3)\n",
    "state_dict = torch.load(\"final_model_weights_filt.pth\", weights_only=True)  # 가중치 로드\n",
    "model.load_state_dict(state_dict)\n",
    "\n",
    "# 모델 평가 모드 전환\n",
    "model.eval()\n",
    "\n",
    "@app.post(\"/classification\")\n",
    "async def classification(body: dict = Body(...)):\n",
    "    # 입력 문장\n",
    "    input_text = body.get(\"text\")\n",
    "    print(input_text)\n",
    "    \n",
    "    # 토큰화\n",
    "    input_encoding = tokenizer(\n",
    "        input_text,\n",
    "        truncation=True,\n",
    "        padding=True,\n",
    "        max_length=128,\n",
    "        return_tensors=\"pt\"\n",
    "    )\n",
    "    \n",
    "    # 모델 예측\n",
    "    with torch.no_grad():\n",
    "        # 입력 데이터 추출\n",
    "        input_ids = input_encoding[\"input_ids\"]\n",
    "        attention_mask = input_encoding[\"attention_mask\"]\n",
    "    \n",
    "        # 모델 예측 수행\n",
    "        outputs = model(input_ids=input_ids, attention_mask=attention_mask)\n",
    "        logits = outputs.logits  # [1, num_classes]\n",
    "        \n",
    "        # 소프트맥스 확률 계산\n",
    "        probabilities = torch.softmax(logits, dim=-1)\n",
    "        \n",
    "        # 가장 큰 확률의 클래스 인덱스 예측\n",
    "        prediction = torch.argmax(probabilities, dim=-1).item()\n",
    "        print(prediction)\n",
    "        return {\"result\": prediction}\n",
    "\n",
    "uvicorn.run(app, host=\"0.0.0.0\", port=8000)"
   ]
  },
  {
   "cell_type": "code",
   "execution_count": null,
   "id": "c2f1c73c-4fda-47ac-8e96-911d4066a377",
   "metadata": {},
   "outputs": [],
   "source": []
  }
 ],
 "metadata": {
  "kernelspec": {
   "display_name": "cnn",
   "language": "python",
   "name": "cnn"
  },
  "language_info": {
   "codemirror_mode": {
    "name": "ipython",
    "version": 3
   },
   "file_extension": ".py",
   "mimetype": "text/x-python",
   "name": "python",
   "nbconvert_exporter": "python",
   "pygments_lexer": "ipython3",
   "version": "3.9.20"
  }
 },
 "nbformat": 4,
 "nbformat_minor": 5
}
