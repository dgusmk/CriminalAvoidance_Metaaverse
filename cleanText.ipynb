{
 "cells": [
  {
   "cell_type": "code",
   "execution_count": 2,
   "id": "1d14a589-d9c2-497b-8b96-d19724396651",
   "metadata": {},
   "outputs": [],
   "source": [
    "import numpy as np\n",
    "import pandas as pd\n",
    "import re\n",
    "import tensorflow as tf\n",
    "import nltk\n",
    "from sklearn.model_selection import train_test_split\n",
    "from transformers import BertTokenizer, BertForSequenceClassification, AdamW\n",
    "from torch.utils.data import Dataset, DataLoader\n",
    "import torch\n",
    "from torch.nn import CrossEntropyLoss\n",
    "from torch.optim import AdamW\n",
    "\n",
    "def clean_text(text):\n",
    "    # 정규 표현식으로 'RT'와 '#', '@'로 시작하는 단어를 찾아 제거\n",
    "    text = re.sub(r'\\bRT\\b', '', text)  # 'RT' 단독 제거\n",
    "    text = re.sub(r'@\\S*', '', text)    # '@'로 시작하는 단어 제거\n",
    "    text = re.sub(r'#\\S*', '', text)    # '#'로 시작하는 단어 제거\n",
    "    text = re.sub(r'&\\S*', '', text)    # '&'로 시작하는 단어 제거\n",
    "    text = re.sub(r'https?://\\S*', '', text)    # 'http'로 시작하는 단어 제거\n",
    "\n",
    "    # 특수 기호 제거 (알파벳, 숫자, 공백 외의 문자 제거)\n",
    "    # text = re.sub(r'[^a-zA-Z0-9\\s]', '', text) \n",
    "\n",
    "    # 중복된 공백 제거\n",
    "    text = re.sub(r'\\s+', ' ', text).strip()\n",
    "    text = text.lower()\n",
    "    return text"
   ]
  },
  {
   "cell_type": "code",
   "execution_count": 3,
   "id": "eac1a66c-2480-4bfb-b5d4-41fe34e13fd1",
   "metadata": {},
   "outputs": [],
   "source": [
    "data = pd.read_csv(\"merged_file.csv\", sep=';', on_bad_lines='skip')\n",
    "data['text'] = data['text'].apply(clean_text)\n",
    "data = data.dropna()\n",
    "data = data[data['text'] != \"\"]  # 공백만 남은 데이터 제거\n",
    "data.to_csv(\"cleaned_data.csv\", sep=';', index=False)"
   ]
  }
 ],
 "metadata": {
  "kernelspec": {
   "display_name": "cnn",
   "language": "python",
   "name": "cnn"
  },
  "language_info": {
   "codemirror_mode": {
    "name": "ipython",
    "version": 3
   },
   "file_extension": ".py",
   "mimetype": "text/x-python",
   "name": "python",
   "nbconvert_exporter": "python",
   "pygments_lexer": "ipython3",
   "version": "3.9.20"
  }
 },
 "nbformat": 4,
 "nbformat_minor": 5
}
