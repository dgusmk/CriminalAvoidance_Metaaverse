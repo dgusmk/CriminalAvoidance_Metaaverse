{
 "cells": [
  {
   "cell_type": "code",
   "execution_count": null,
   "id": "1799744c-5fc7-4770-b322-d4fb8b1d28a7",
   "metadata": {},
   "outputs": [],
   "source": [
    "df = pd.read_csv(\"final.csv\", sep=';', on_bad_lines='skip')\n",
    "texts = df['text'].apply(preprocess)\n",
    "labels = df['type'].values  # type 컬럼에서 0, 1, 2 라벨 추출\n",
    "\n",
    "# 파라미터 설정\n",
    "vocab_size = 20000  # 사전 크기 (단어 수)\n",
    "max_length = 50    # 각 문장의 최대 길이\n",
    "embedding_dim = 500  # 임베딩 벡터 크기\n",
    "\n",
    "vectorize_layer = TextVectorization(\n",
    "    max_tokens=vocab_size,      # 단어 집합 크기 제한\n",
    "    output_mode='int',          # 정수 인덱스로 변환\n",
    "    output_sequence_length=max_length  # 패딩을 포함한 최대 길이 설정\n",
    ")\n",
    "\n",
    "class_weights = {\n",
    "    0: 1.,\n",
    "    1: 0.3,\n",
    "    2: 10.\n",
    "}\n",
    "\n",
    "# 텍스트에 인덱스 부여\n",
    "vectorize_layer.adapt(texts)\n",
    "# 텍스트 데이터를 인덱스로 벡터화\n",
    "texts_vectorized = vectorize_layer(texts).numpy()\n",
    "# 라벨을 one-hot 인코딩으로 변환 - 0: not cyberbullying, 1: cyberbullying, 2: sexual cyberbullying\n",
    "labels_categorical = to_categorical(labels, num_classes=3)\n",
    "\n",
    "X_train, X_test, y_train, y_test = train_test_split(\n",
    "    texts_vectorized, labels_categorical, test_size=0.2, random_state=42\n",
    ")\n",
    "\n",
    "# CNN 모델 설계\n",
    "model = Sequential()\n",
    "# 임베딩 레이어: 단어 인덱스를 임베딩 벡터로 변환\n",
    "model.add(Embedding(input_dim=vocab_size, output_dim=embedding_dim))\n",
    "\n",
    "# LSTM 레이어 추가\n",
    "model.add(LSTM(128, return_sequences=False))  # 128개의 뉴런으로 출력\n",
    "# 출력 레이어: 3개의 클래스에 대한 출력, softmax로 확률값 출력\n",
    "model.add(Dense(3, activation='softmax'))\n",
    "# 모델 컴파일 (손실 함수: 다중 클래스 분류를 위한 categorical_crossentropy)\n",
    "model.compile(optimizer='adam', loss='categorical_crossentropy', metrics=['accuracy'])\n",
    "# 모델 요약 출력\n",
    "model.summary()\n",
    "# 학습\n",
    "history = model.fit(X_train, y_train, epochs=20, batch_size=500, class_weight=class_weights, shuffle=True)\n",
    "\n",
    "test_loss, test_accuracy = model.evaluate(X_test, y_test, verbose=2)\n",
    "print(f\"Test Accuracy: {test_accuracy * 100:.2f}%\")"
   ]
  }
 ],
 "metadata": {
  "kernelspec": {
   "display_name": "Python 3 (ipykernel)",
   "language": "python",
   "name": "python3"
  },
  "language_info": {
   "codemirror_mode": {
    "name": "ipython",
    "version": 3
   },
   "file_extension": ".py",
   "mimetype": "text/x-python",
   "name": "python",
   "nbconvert_exporter": "python",
   "pygments_lexer": "ipython3",
   "version": "3.11.7"
  }
 },
 "nbformat": 4,
 "nbformat_minor": 5
}
