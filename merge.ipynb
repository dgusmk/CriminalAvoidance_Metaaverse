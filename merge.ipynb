{
 "cells": [
  {
   "cell_type": "code",
   "execution_count": 1,
   "id": "f62a0c67-9afa-4546-99ef-36b227efcd53",
   "metadata": {},
   "outputs": [
    {
     "name": "stdout",
     "output_type": "stream",
     "text": [
      "CSV 파일이 성공적으로 병합되었습니다: merged_file.csv\n"
     ]
    }
   ],
   "source": [
    "import pandas as pd\n",
    "\n",
    "# 두 CSV 파일 읽기\n",
    "file1 = \"final.csv\"  # 첫 번째 CSV 파일 경로\n",
    "file2 = \"augmentation.csv\"  # 두 번째 CSV 파일 경로\n",
    "\n",
    "df1 = pd.read_csv(file1, sep=';', on_bad_lines='skip')\n",
    "df2 = pd.read_csv(file2, sep=';', on_bad_lines='skip')\n",
    "df1_subset = df1.iloc[:, :47116]\n",
    "df2.columns = df1_subset.columns\n",
    "\n",
    "# 두 DataFrame 연결 (행 단위로 연결)\n",
    "merged_df = pd.concat([df1_subset, df2], ignore_index=True)\n",
    "\n",
    "# 결과 저장\n",
    "output_file = \"merged_file.csv\"\n",
    "merged_df.to_csv(output_file, index=False, sep=';')\n",
    "\n",
    "print(f\"CSV 파일이 성공적으로 병합되었습니다: {output_file}\")"
   ]
  }
 ],
 "metadata": {
  "kernelspec": {
   "display_name": "cnn",
   "language": "python",
   "name": "cnn"
  },
  "language_info": {
   "codemirror_mode": {
    "name": "ipython",
    "version": 3
   },
   "file_extension": ".py",
   "mimetype": "text/x-python",
   "name": "python",
   "nbconvert_exporter": "python",
   "pygments_lexer": "ipython3",
   "version": "3.9.20"
  }
 },
 "nbformat": 4,
 "nbformat_minor": 5
}
